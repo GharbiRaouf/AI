{
 "cells": [
  {
   "cell_type": "code",
   "execution_count": 1,
   "metadata": {
    "_cell_guid": "904fb4c5-5baf-87e5-db78-2c24def64f64"
   },
   "outputs": [],
   "source": [
    "import os\n",
    "import numpy as np\n",
    "import pandas as pd\n",
    "import matplotlib.pyplot as plt\n",
    "from sklearn.utils import shuffle\n",
    "from sklearn.tree import DecisionTreeClassifier\n",
    "from sklearn.metrics import roc_auc_score"
   ]
  },
  {
   "cell_type": "code",
   "execution_count": 2,
   "metadata": {
    "_cell_guid": "83cb108e-86a0-29a6-964a-c74b1587eda1"
   },
   "outputs": [
    {
     "name": "stdout",
     "output_type": "stream",
     "text": [
      "creditcard.csv\n",
      "\n"
     ]
    },
    {
     "data": {
      "text/html": [
       "<div>\n",
       "<table border=\"1\" class=\"dataframe\">\n",
       "  <thead>\n",
       "    <tr style=\"text-align: right;\">\n",
       "      <th></th>\n",
       "      <th>Time</th>\n",
       "      <th>V1</th>\n",
       "      <th>V2</th>\n",
       "      <th>V3</th>\n",
       "      <th>V4</th>\n",
       "      <th>V5</th>\n",
       "      <th>V6</th>\n",
       "      <th>V7</th>\n",
       "      <th>V8</th>\n",
       "      <th>V9</th>\n",
       "      <th>...</th>\n",
       "      <th>V21</th>\n",
       "      <th>V22</th>\n",
       "      <th>V23</th>\n",
       "      <th>V24</th>\n",
       "      <th>V25</th>\n",
       "      <th>V26</th>\n",
       "      <th>V27</th>\n",
       "      <th>V28</th>\n",
       "      <th>Amount</th>\n",
       "      <th>Class</th>\n",
       "    </tr>\n",
       "  </thead>\n",
       "  <tbody>\n",
       "    <tr>\n",
       "      <th>0</th>\n",
       "      <td>47925.0</td>\n",
       "      <td>-2.490287</td>\n",
       "      <td>-0.260394</td>\n",
       "      <td>1.853891</td>\n",
       "      <td>1.899267</td>\n",
       "      <td>0.853351</td>\n",
       "      <td>-0.727073</td>\n",
       "      <td>-0.200017</td>\n",
       "      <td>0.655494</td>\n",
       "      <td>-1.106321</td>\n",
       "      <td>...</td>\n",
       "      <td>-0.108057</td>\n",
       "      <td>-0.474958</td>\n",
       "      <td>0.583079</td>\n",
       "      <td>0.480543</td>\n",
       "      <td>0.220761</td>\n",
       "      <td>-0.355668</td>\n",
       "      <td>-0.125249</td>\n",
       "      <td>-0.047782</td>\n",
       "      <td>0.76</td>\n",
       "      <td>0</td>\n",
       "    </tr>\n",
       "    <tr>\n",
       "      <th>1</th>\n",
       "      <td>123650.0</td>\n",
       "      <td>2.209234</td>\n",
       "      <td>-0.587293</td>\n",
       "      <td>-1.297078</td>\n",
       "      <td>-0.905872</td>\n",
       "      <td>-0.430848</td>\n",
       "      <td>-1.199709</td>\n",
       "      <td>-0.264311</td>\n",
       "      <td>-0.435359</td>\n",
       "      <td>-0.762956</td>\n",
       "      <td>...</td>\n",
       "      <td>0.466216</td>\n",
       "      <td>1.387952</td>\n",
       "      <td>0.051267</td>\n",
       "      <td>1.241763</td>\n",
       "      <td>0.217157</td>\n",
       "      <td>0.005462</td>\n",
       "      <td>-0.035367</td>\n",
       "      <td>-0.051918</td>\n",
       "      <td>15.00</td>\n",
       "      <td>0</td>\n",
       "    </tr>\n",
       "    <tr>\n",
       "      <th>2</th>\n",
       "      <td>163095.0</td>\n",
       "      <td>-0.863708</td>\n",
       "      <td>0.560844</td>\n",
       "      <td>-2.323066</td>\n",
       "      <td>-1.375420</td>\n",
       "      <td>3.749304</td>\n",
       "      <td>2.836620</td>\n",
       "      <td>0.635449</td>\n",
       "      <td>0.578432</td>\n",
       "      <td>-0.254691</td>\n",
       "      <td>...</td>\n",
       "      <td>0.112690</td>\n",
       "      <td>0.427050</td>\n",
       "      <td>-0.282438</td>\n",
       "      <td>0.662331</td>\n",
       "      <td>-0.816610</td>\n",
       "      <td>0.147977</td>\n",
       "      <td>-0.606641</td>\n",
       "      <td>-0.275724</td>\n",
       "      <td>18.00</td>\n",
       "      <td>0</td>\n",
       "    </tr>\n",
       "    <tr>\n",
       "      <th>3</th>\n",
       "      <td>167849.0</td>\n",
       "      <td>0.281468</td>\n",
       "      <td>0.540924</td>\n",
       "      <td>-2.042245</td>\n",
       "      <td>-0.254178</td>\n",
       "      <td>1.174166</td>\n",
       "      <td>0.171534</td>\n",
       "      <td>0.157435</td>\n",
       "      <td>-2.986427</td>\n",
       "      <td>-0.776229</td>\n",
       "      <td>...</td>\n",
       "      <td>-0.967411</td>\n",
       "      <td>1.027021</td>\n",
       "      <td>-0.467020</td>\n",
       "      <td>-1.402770</td>\n",
       "      <td>0.713737</td>\n",
       "      <td>-0.292521</td>\n",
       "      <td>0.154864</td>\n",
       "      <td>0.331082</td>\n",
       "      <td>153.93</td>\n",
       "      <td>0</td>\n",
       "    </tr>\n",
       "    <tr>\n",
       "      <th>4</th>\n",
       "      <td>33519.0</td>\n",
       "      <td>1.343807</td>\n",
       "      <td>-0.490272</td>\n",
       "      <td>0.427164</td>\n",
       "      <td>-0.708862</td>\n",
       "      <td>-0.863968</td>\n",
       "      <td>-0.616625</td>\n",
       "      <td>-0.526628</td>\n",
       "      <td>-0.098927</td>\n",
       "      <td>-0.859735</td>\n",
       "      <td>...</td>\n",
       "      <td>-0.008992</td>\n",
       "      <td>-0.128651</td>\n",
       "      <td>0.105547</td>\n",
       "      <td>0.075944</td>\n",
       "      <td>0.239893</td>\n",
       "      <td>-0.391537</td>\n",
       "      <td>0.019747</td>\n",
       "      <td>0.019125</td>\n",
       "      <td>22.95</td>\n",
       "      <td>0</td>\n",
       "    </tr>\n",
       "  </tbody>\n",
       "</table>\n",
       "<p>5 rows × 31 columns</p>\n",
       "</div>"
      ],
      "text/plain": [
       "       Time        V1        V2        V3        V4        V5        V6  \\\n",
       "0   47925.0 -2.490287 -0.260394  1.853891  1.899267  0.853351 -0.727073   \n",
       "1  123650.0  2.209234 -0.587293 -1.297078 -0.905872 -0.430848 -1.199709   \n",
       "2  163095.0 -0.863708  0.560844 -2.323066 -1.375420  3.749304  2.836620   \n",
       "3  167849.0  0.281468  0.540924 -2.042245 -0.254178  1.174166  0.171534   \n",
       "4   33519.0  1.343807 -0.490272  0.427164 -0.708862 -0.863968 -0.616625   \n",
       "\n",
       "         V7        V8        V9  ...         V21       V22       V23  \\\n",
       "0 -0.200017  0.655494 -1.106321  ...   -0.108057 -0.474958  0.583079   \n",
       "1 -0.264311 -0.435359 -0.762956  ...    0.466216  1.387952  0.051267   \n",
       "2  0.635449  0.578432 -0.254691  ...    0.112690  0.427050 -0.282438   \n",
       "3  0.157435 -2.986427 -0.776229  ...   -0.967411  1.027021 -0.467020   \n",
       "4 -0.526628 -0.098927 -0.859735  ...   -0.008992 -0.128651  0.105547   \n",
       "\n",
       "        V24       V25       V26       V27       V28  Amount  Class  \n",
       "0  0.480543  0.220761 -0.355668 -0.125249 -0.047782    0.76      0  \n",
       "1  1.241763  0.217157  0.005462 -0.035367 -0.051918   15.00      0  \n",
       "2  0.662331 -0.816610  0.147977 -0.606641 -0.275724   18.00      0  \n",
       "3 -1.402770  0.713737 -0.292521  0.154864  0.331082  153.93      0  \n",
       "4  0.075944  0.239893 -0.391537  0.019747  0.019125   22.95      0  \n",
       "\n",
       "[5 rows x 31 columns]"
      ]
     },
     "execution_count": 2,
     "metadata": {},
     "output_type": "execute_result"
    }
   ],
   "source": [
    "from subprocess import check_output\n",
    "print(check_output([\"ls\", \"../input\"]).decode(\"utf8\"))\n",
    "df = pd.read_csv(\"../input/creditcard.csv\")\n",
    "df =  shuffle(df).reset_index(drop=True)\n",
    "df.head()"
   ]
  },
  {
   "cell_type": "code",
   "execution_count": 3,
   "metadata": {
    "_cell_guid": "d1d53212-9c3a-b888-af16-a3cb3f77e30a"
   },
   "outputs": [],
   "source": [
    "frac =0.80 \n",
    "X_train = df.sample(frac=frac)\n",
    "count_FRAUDE = len(X_train)\n",
    "\n",
    "#X_test contains all the transaction not in X_train.\n",
    "X_test = df.loc[~df.index.isin(X_train.index)].reset_index(drop=True).astype(float)\n",
    "\n",
    "#Add our target features to y_train and y_test.\n",
    "y_train = pd.DataFrame({'Class':X_train.Class.reset_index(drop=True)})\n",
    "\n",
    "\n",
    "\n",
    "y_test = pd.DataFrame({'Class':X_test.Class.reset_index(drop=True)})\n",
    "\n",
    "#Drop target features from predictors X_train and X_test.\n",
    "X_train = X_train.drop(['Class'], axis = 1).reset_index(drop=True)\n",
    "X_test = X_test.drop(['Class'], axis = 1).reset_index(drop=True)\n"
   ]
  },
  {
   "cell_type": "code",
   "execution_count": 4,
   "metadata": {
    "_cell_guid": "c29447da-26ef-f064-e5c2-8603cfa67e80"
   },
   "outputs": [],
   "source": [
    "features = X_train.columns.values\n",
    "for feature in features:\n",
    "    mean, std = df[feature].mean(), df[feature].std()\n",
    "    X_train.loc[:, feature] = (X_train[feature] - mean) / std\n",
    "    X_test.loc[:, feature] = (X_test[feature] - mean) / std\n"
   ]
  },
  {
   "cell_type": "code",
   "execution_count": 5,
   "metadata": {
    "_cell_guid": "337c771f-12fd-36ac-3734-196a0b76cf64"
   },
   "outputs": [],
   "source": [
    "nrow = len(X_train)\n",
    "depthList = np.array(range(1,20)) #search depth list\n",
    "xvalMSE =[]\n",
    "epoch = 1\n",
    "score_history =[]\n",
    "for iDepth in depthList:\n",
    "\n",
    "    for ixval in range(epoch):\n",
    "\n",
    "        xTrain = X_train.as_matrix()\n",
    "        yTrain = y_train.as_matrix().ravel()\n",
    "        xTest = X_test.as_matrix()\n",
    "        yTest = y_test.as_matrix().ravel()\n",
    "\n",
    "    \n",
    "        treeModel = DecisionTreeClassifier(max_depth = iDepth)\n",
    "        treeModel.fit(xTrain, yTrain)\n",
    "        \n",
    "        treePrediction = treeModel.predict(xTest)\n",
    "        treePrediction=np.array(treePrediction,dtype=np.float32)\n",
    "        yTest = np.array(yTest,dtype=np.float32)\n",
    "        \n",
    "        error = [yTest[r] - treePrediction[r] for r in range(len(yTest))]\n",
    "\n",
    "        \n",
    "        if ixval == 0:\n",
    "            oosErrors = sum([e*e for e in error])\n",
    "        else:\n",
    "            oosErrors += sum([e*e for e in error])\n",
    "    score = roc_auc_score(yTest, treePrediction)\n",
    "    score_history.append(score)    \n",
    "    mse = oosErrors/nrow\n",
    "    xvalMSE.append(mse)"
   ]
  },
  {
   "cell_type": "code",
   "execution_count": 6,
   "metadata": {
    "_cell_guid": "393b6e8c-922c-3eb8-2c51-d22cbbcdbb28"
   },
   "outputs": [
    {
     "data": {
      "text/plain": [
       "[<matplotlib.lines.Line2D at 0x7fcede62b278>]"
      ]
     },
     "execution_count": 6,
     "metadata": {},
     "output_type": "execute_result"
    },
    {
     "data": {
      "image/png": "[encoded data removed]",
      "text/plain": [
       "<matplotlib.figure.Figure at 0x7fcedd0419b0>"
      ]
     },
     "metadata": {},
     "output_type": "display_data"
    }
   ],
   "source": [
    "plt.figure()\n",
    "plt.plot(depthList,xvalMSE)\n",
    "plt.axis(\"tight\")\n",
    "plt.xlabel(\"Tree Depth\")\n",
    "plt.ylabel(\"MSE\")\n",
    "opt_depth = depthList[np.argmin(xvalMSE)]\n",
    "plt.plot(opt_depth,np.amin(xvalMSE),\"or\")"
   ]
  },
  {
   "cell_type": "code",
   "execution_count": 7,
   "metadata": {
    "_cell_guid": "0970dcc9-3572-3761-dd6c-92206b761e09"
   },
   "outputs": [
    {
     "data": {
      "image/png": "[encoded data removed]",
      "text/plain": [
       "<matplotlib.figure.Figure at 0x7fceddf6ed30>"
      ]
     },
     "metadata": {},
     "output_type": "display_data"
    }
   ],
   "source": [
    "plt.figure()\n",
    "plt.plot(depthList,score_history)\n",
    "plt.axis(\"tight\")\n",
    "plt.xlabel(\"Tree Depth\")\n",
    "plt.ylabel(\"ROC AUC Scores\")\n",
    "plt.show()"
   ]
  },
  {
   "cell_type": "code",
   "execution_count": 8,
   "metadata": {
    "_cell_guid": "700bdef7-1173-3a72-11e7-32556550dd9c"
   },
   "outputs": [
    {
     "name": "stdout",
     "output_type": "stream",
     "text": [
      "Minimum MSE: 0.000136056810302\n",
      "Maximum ROC AUC Score: 0.887605619952\n"
     ]
    }
   ],
   "source": [
    "print(\"Minimum MSE:\",np.amin(xvalMSE))\n",
    "print(\"Maximum ROC AUC Score:\", np.amax(score_history))"
   ]
  }
 ],
 "metadata": {
  "_change_revision": 40,
  "_is_fork": false,
  "kernelspec": {
   "display_name": "Python 3",
   "language": "python",
   "name": "python3"
  },
  "language_info": {
   "codemirror_mode": {
    "name": "ipython",
    "version": 3
   },
   "file_extension": ".py",
   "mimetype": "text/x-python",
   "name": "python",
   "nbconvert_exporter": "python",
   "pygments_lexer": "ipython3",
   "version": "3.6.9"
  }
 },
 "nbformat": 4,
 "nbformat_minor": 1
}
